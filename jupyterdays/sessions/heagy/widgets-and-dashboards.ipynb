{
 "cells": [
  {
   "cell_type": "markdown",
   "metadata": {},
   "source": [
    "# \tInteractive exploration with widgets and dashboards\n",
    "\n",
    "Here, we will use a motivating example that looks at CO$_2$ data to demonstrate linear regression to introduce:\n",
    "- [Jupyter Widgets](https://ipywidgets.readthedocs.io/en/latest/index.html) and \n",
    "- [Voilà dashboards](https://voila.readthedocs.io/en/latest/?badge=latest)\n",
    "\n",
    "The example we follow is adapted from the [Intro-Jupyter tutorial from ICESat-2Hackweek](https://github.com/ICESAT-2HackWeek/intro-jupyter), which has contributions from: [Shane Grigsby (@espg)](https://github.com/espg), [Lindsey Heagy (@lheagy)](https://github.com/lheagy), [Yara Mohajerani (@yaramohajerani)](https://github.com/yaramohajerani), and [Fernando Pérez (@fperez)](https://github.com/fperez). "
   ]
  },
  {
   "cell_type": "markdown",
   "metadata": {},
   "source": [
    "## 1. 👋  Hello\n",
    "\n",
    "and a bit about me... \n",
    "\n",
    "Hi, I'm Lindsey \n",
    "- I am currently a Postdoc at UC Berkeley in the Department of Statistics\n",
    "- and will be joining UBC-EOAS as an Asst. Prof in July 2021 \n",
    "- PhD in computational geophysics (modelling and inversions)\n",
    "- Throughout, I have been involved in development of open source software in Python & open educational resources\n"
   ]
  },
  {
   "cell_type": "markdown",
   "metadata": {},
   "source": [
    "## 2. Motivating example: CO$_2$ at Mauna Loa\n",
    "\n",
    "**Question:** Based on historical CO$_2$ data, can we estimate what CO$_2$ concentrations will be in the future? \n",
    "\n",
    "Scripps institute of Oceanography has a research station at Mauna Loa in Hawaii where they have been measuring atmospheric CO$_2$ since 1958. The data we will focus on are the seasonally adjusted data. \n",
    "\n",
    "<img src=\"https://scrippsco2.ucsd.edu/assets/images/mlo_station_map.png\" align=\"center\">\n",
    "\n",
    "**Data Source**\n",
    "\n",
    "C. D. Keeling, S. C. Piper, R. B. Bacastow, M. Wahlen, T. P. Whorf, M. Heimann, and  H. A. Meijer, Exchanges of atmospheric CO2 and 13CO2 with the terrestrial biosphere and  oceans from 1978 to 2000.  I. Global aspects, SIO Reference Series, No. 01-06, Scripps  Institution of Oceanography, San Diego, 88 pages, 2001. https://scrippsco2.ucsd.edu/data/atmospheric_co2/primary_mlo_co2_record.html   "
   ]
  },
  {
   "cell_type": "code",
   "execution_count": 1,
   "metadata": {},
   "outputs": [],
   "source": [
    "import matplotlib.pyplot as plt\n",
    "import numpy as np\n",
    "import pandas as pd"
   ]
  },
  {
   "cell_type": "code",
   "execution_count": 2,
   "metadata": {},
   "outputs": [],
   "source": [
    "from matplotlib import rcParams\n",
    "rcParams[\"font.size\"] = 14"
   ]
  },
  {
   "cell_type": "markdown",
   "metadata": {},
   "source": [
    "### 2.1 Load, clean and plot the data\n",
    "\n",
    "We first do some light cleaning to remove rows with missing data, and then plot up our data set. We will work with the seasonally adjusted data. For a description of the data types we can consider, please see the [description from Scripps](https://scrippsco2.ucsd.edu/data/atmospheric_co2/primary_mlo_co2_record.html). "
   ]
  },
  {
   "cell_type": "code",
   "execution_count": 3,
   "metadata": {},
   "outputs": [],
   "source": [
    "co2_data_source = \"./data/monthly_in_situ_co2_mlo.csv\"\n",
    "co2_data_full = pd.read_csv(\n",
    "    co2_data_source, \n",
    "    skiprows=np.arange(0, 56), \n",
    "    na_values=\"-99.99\"\n",
    ")\n",
    "\n",
    "co2_data_full.columns = [\n",
    "    \"year\", \"month\", \"date (int)\", \"date\", \"co2\", \"seasonally adjusted\",\n",
    "    \"fit\", \"seasonally adjusted fit\", \"co2 filled\", \"seasonally adjusted filled\" \n",
    "]\n",
    "\n",
    "co2_data = co2_data_full.dropna()"
   ]
  },
  {
   "cell_type": "code",
   "execution_count": 4,
   "metadata": {},
   "outputs": [],
   "source": [
    "def get_data_between(data=co2_data, date_range=None, data_type=\"seasonally adjusted\"):\n",
    "    \"\"\"\n",
    "    A function to fetch data between year_min and year_max  \n",
    "    \"\"\"\n",
    "    if date_range is None:\n",
    "        date_range = data[\"date\"].min(), data[\"date\"].max()\n",
    "\n",
    "    # find the data between the minimimum and maximum years\n",
    "    indices = (data[\"date\"] >= date_range[0]) & (data[\"date\"] <= date_range[1]) \n",
    "    return data[\"date\"][indices], data[data_type][indices]"
   ]
  },
  {
   "cell_type": "code",
   "execution_count": 5,
   "metadata": {},
   "outputs": [],
   "source": [
    "def plot_co2_data(data=co2_data, date_range=None, data_type=\"seasonally adjusted\", ax=None):\n",
    "    \"\"\"\n",
    "    A function that we can use to plot data between year_min and year_max\n",
    "    \"\"\"\n",
    "    \n",
    "    # create a figure if one isn't supplied\n",
    "    if ax is None:\n",
    "        fig, ax = plt.subplots(1, 1, figsize=(8, 5))\n",
    "        \n",
    "    dates, data_between = get_data_between(data, date_range, data_type)\n",
    "        \n",
    "    # plot data\n",
    "    ax.plot(dates, data_between, '.',  ms=8)\n",
    "    ax.grid()\n",
    "    ax.set_xlabel(f\"Year\")\n",
    "    ax.set_ylabel(f\"CO$_2$ [ppm]\")"
   ]
  },
  {
   "cell_type": "code",
   "execution_count": 6,
   "metadata": {},
   "outputs": [
    {
     "data": {
      "image/png": "[encoded data removed]",
      "text/plain": [
       "<Figure size 576x360 with 1 Axes>"
      ]
     },
     "metadata": {
      "needs_background": "light"
     },
     "output_type": "display_data"
    }
   ],
   "source": [
    "plot_co2_data(co2_data) # ,[1958, 1963])"
   ]
  },
  {
   "cell_type": "markdown",
   "metadata": {},
   "source": [
    "### 2.2 Making predictions: Focus on the first 5 years\n",
    "\n",
    "**Question:** If the trend between 1958 and 1963 continues, what would we expect the CO$_2$ concentration to be in January, 2030?  \n",
    "\n",
    "#### Part 1: The \"eyeball\" norm - with widgets!\n",
    "\n",
    "- using the widgets below, estimate a slope and intercept of a line that fits the data\n",
    "- the `slope` indicates the rate of CO$_2$ accumulation per year\n",
    "- the `intercept` is the estimated concentration of CO$_2$ at the first point we consider"
   ]
  },
  {
   "cell_type": "code",
   "execution_count": 7,
   "metadata": {},
   "outputs": [],
   "source": [
    "import ipywidgets as widgets"
   ]
  },
  {
   "cell_type": "code",
   "execution_count": 8,
   "metadata": {},
   "outputs": [],
   "source": [
    "def add_line(dates, slope, intercept, ax=None, label=None):\n",
    "    \"\"\"\n",
    "    A function to add a line to a plot\n",
    "    \"\"\"    \n",
    "    # create a figure if one isn't supplied\n",
    "    if ax is None:\n",
    "        fig, ax = plt.subplots(1, 1, figsize=(8, 5))\n",
    "    \n",
    "    y = slope * (dates - dates.min()) + intercept\n",
    "    ax.plot(dates, y, label=label)"
   ]
  },
  {
   "cell_type": "code",
   "execution_count": 9,
   "metadata": {},
   "outputs": [],
   "source": [
    "def plot_fit_co2_data(slope, intercept, year_min=1958, year_max=2020, data_type=\"seasonally adjusted\"):\n",
    "    \"\"\"\n",
    "    This function creates an interactive widget where we can fit a curve to data\n",
    "    \"\"\"\n",
    "    fig, ax = plt.subplots(1, 1, figsize=(8, 5))\n",
    "    plot_co2_data(co2_data, [year_min, year_max], data_type, ax=ax)\n",
    "    add_line(np.r_[year_min, year_max], slope, intercept, ax=ax)\n",
    "    return ax"
   ]
  },
  {
   "cell_type": "code",
   "execution_count": 10,
   "metadata": {},
   "outputs": [
    {
     "data": {
      "application/vnd.jupyter.widget-view+json": {
       "model_id": "506bd742c81d4cfbb9f7f186c23c2d20",
       "version_major": 2,
       "version_minor": 0
      },
      "text/plain": [
       "interactive(children=(FloatSlider(value=2.0, description='slope', max=5.0), FloatSlider(value=309.44, descript…"
      ]
     },
     "metadata": {},
     "output_type": "display_data"
    }
   ],
   "source": [
    "year_min = 1958\n",
    "year_max = 1963\n",
    "\n",
    "w_co2 = widgets.interactive(\n",
    "    plot_fit_co2_data, \n",
    "    slope=widgets.FloatSlider(\n",
    "        min=0, max=5, step=0.1, value=2\n",
    "    ),\n",
    "    intercept=widgets.FloatSlider(\n",
    "        min=co2_data[\"seasonally adjusted\"].min()-5, \n",
    "        max=co2_data[\"seasonally adjusted\"].min()+5, \n",
    "        step=0.25\n",
    "    ),\n",
    "    year_min=widgets.fixed(year_min),\n",
    "    year_max=widgets.fixed(year_max),\n",
    "    data_type=widgets.fixed(\"seasonally adjusted\")\n",
    ")\n",
    "w_co2"
   ]
  },
  {
   "cell_type": "markdown",
   "metadata": {},
   "source": [
    "#### Make a prediction \n",
    "\n",
    "Based on your estimated slope and intercept values: what do you estimate the CO$_2$ concentration would be in 2030? "
   ]
  },
  {
   "cell_type": "code",
   "execution_count": 11,
   "metadata": {},
   "outputs": [],
   "source": [
    "def predict_co2(slope, intercept, initial_date, prediction_date):\n",
    "    \"\"\"\n",
    "    based on an estimated slope, and intercept use a linear \n",
    "    model to predict CO2 concentration\n",
    "    \"\"\"\n",
    "    return slope * (prediction_date-initial_date) + intercept"
   ]
  },
  {
   "cell_type": "code",
   "execution_count": 12,
   "metadata": {},
   "outputs": [],
   "source": [
    "def print_prediction(year_predict):\n",
    "    predicted_co2 = predict_co2(\n",
    "        w_co2.kwargs[\"slope\"], w_co2.kwargs[\"intercept\"], year_min, year_predict\n",
    "    )\n",
    "    print(\n",
    "        f\"Predicted CO2 in {year_predict}: \"\n",
    "        f\"{predicted_co2:1.2f} ppm\"\n",
    "    )\n",
    "    return predicted_co2"
   ]
  },
  {
   "cell_type": "code",
   "execution_count": 13,
   "metadata": {},
   "outputs": [
    {
     "data": {
      "application/vnd.jupyter.widget-view+json": {
       "model_id": "b4cc59a7cc47480ea343da5695ca7401",
       "version_major": 2,
       "version_minor": 0
      },
      "text/plain": [
       "interactive(children=(IntSlider(value=2020, description='year_predict', max=2100, min=1958), Output()), _dom_c…"
      ]
     },
     "metadata": {},
     "output_type": "display_data"
    }
   ],
   "source": [
    "w_predict = widgets.interactive(\n",
    "    print_prediction,\n",
    "    year_predict = widgets.IntSlider(min=1958, max=2100, value=2020)\n",
    ")\n",
    "w_predict"
   ]
  },
  {
   "cell_type": "code",
   "execution_count": 14,
   "metadata": {},
   "outputs": [
    {
     "data": {
      "text/plain": [
       "Text(2019, 433.44, '433.44 ppm')"
      ]
     },
     "execution_count": 14,
     "metadata": {},
     "output_type": "execute_result"
    },
    {
     "data": {
      "image/png": "[encoded data removed]",
      "text/plain": [
       "<Figure size 576x360 with 1 Axes>"
      ]
     },
     "metadata": {
      "needs_background": "light"
     },
     "output_type": "display_data"
    }
   ],
   "source": [
    "ax = plot_fit_co2_data(\n",
    "    slope=w_co2.kwargs['slope'], intercept=w_co2.kwargs['intercept'],\n",
    ") \n",
    "\n",
    "year_predict = w_predict.kwargs[\"year_predict\"]\n",
    "val_predict = w_predict.result\n",
    "\n",
    "ax.plot(year_predict, val_predict, 'o')\n",
    "ax.text(year_predict - 1, val_predict, f\"{val_predict:1.2f} ppm\", ha=\"right\", va=\"center\")"
   ]
  },
  {
   "cell_type": "markdown",
   "metadata": {},
   "source": [
    "## 3. More on Widgets: Using Interact \n",
    "\n",
    "The `interact` function `ipywidgets.interact` is the quickest way to create user interface controls in code. It is the easiest way to get up and running!\n"
   ]
  },
  {
   "cell_type": "markdown",
   "metadata": {},
   "source": [
    "### 3.1 Basic `interact`\n",
    "\n",
    "At the most basic level, `interact` autogenerates controls for function arguments, and then calls the function with those arguments when you manipulate the controls interactively. To use `interact`, you need to define a function that you want to explore. "
   ]
  },
  {
   "cell_type": "code",
   "execution_count": 15,
   "metadata": {},
   "outputs": [],
   "source": [
    "def f(x):\n",
    "    return 3*x"
   ]
  },
  {
   "cell_type": "markdown",
   "metadata": {},
   "source": [
    "When you pass this function as the first argument to `interact` along with an integer keyword argument (`x=10`), a slider is generated and bound to the function parameter."
   ]
  },
  {
   "cell_type": "code",
   "execution_count": 16,
   "metadata": {},
   "outputs": [
    {
     "data": {
      "application/vnd.jupyter.widget-view+json": {
       "model_id": "60eb24ed572f47daa0cd8198be88acca",
       "version_major": 2,
       "version_minor": 0
      },
      "text/plain": [
       "interactive(children=(IntSlider(value=10, description='x', max=30, min=-10), Output()), _dom_classes=('widget-…"
      ]
     },
     "metadata": {},
     "output_type": "display_data"
    }
   ],
   "source": [
    "widgets.interact(f, x=10);"
   ]
  },
  {
   "cell_type": "markdown",
   "metadata": {},
   "source": [
    "If you pass `True` or `False`, `interact` will generate a checkbox:"
   ]
  },
  {
   "cell_type": "code",
   "execution_count": 17,
   "metadata": {},
   "outputs": [
    {
     "data": {
      "application/vnd.jupyter.widget-view+json": {
       "model_id": "338b9e3aaee14072990acab886bc0b62",
       "version_major": 2,
       "version_minor": 0
      },
      "text/plain": [
       "interactive(children=(Checkbox(value=True, description='x'), Output()), _dom_classes=('widget-interact',))"
      ]
     },
     "metadata": {},
     "output_type": "display_data"
    }
   ],
   "source": [
    "widgets.interact(f, x=True);"
   ]
  },
  {
   "cell_type": "markdown",
   "metadata": {},
   "source": [
    "If you pass a string, `interact` will generate a `Text` field."
   ]
  },
  {
   "cell_type": "code",
   "execution_count": 18,
   "metadata": {},
   "outputs": [
    {
     "data": {
      "application/vnd.jupyter.widget-view+json": {
       "model_id": "b76e6d12805a4e78b9786a1109466832",
       "version_major": 2,
       "version_minor": 0
      },
      "text/plain": [
       "interactive(children=(Text(value='Hello!', description='x'), Output()), _dom_classes=('widget-interact',))"
      ]
     },
     "metadata": {},
     "output_type": "display_data"
    }
   ],
   "source": [
    "widgets.interact(f, x='Hello!');"
   ]
  },
  {
   "cell_type": "markdown",
   "metadata": {},
   "source": [
    "`interact` can also be used as a decorator. This allows you to define a function and interact with it in a single shot. As this example shows, `interact` also works with functions that have multiple arguments."
   ]
  },
  {
   "cell_type": "code",
   "execution_count": 19,
   "metadata": {},
   "outputs": [
    {
     "data": {
      "application/vnd.jupyter.widget-view+json": {
       "model_id": "7c3946a405384fa0a25547728b045205",
       "version_major": 2,
       "version_minor": 0
      },
      "text/plain": [
       "interactive(children=(Checkbox(value=True, description='x'), FloatSlider(value=1.0, description='y', max=3.0, …"
      ]
     },
     "metadata": {},
     "output_type": "display_data"
    }
   ],
   "source": [
    "@widgets.interact(x=True, y=1.0)\n",
    "def g(x, y):\n",
    "    return (x, y)"
   ]
  },
  {
   "cell_type": "markdown",
   "metadata": {},
   "source": [
    "#### Fixing arguments with `fixed`\n",
    "\n",
    "There are times when you may want to explore a function using `interact`, but fix one or more of its arguments to specific values. This can be accomplished by wrapping values with the `fixed` function."
   ]
  },
  {
   "cell_type": "code",
   "execution_count": 20,
   "metadata": {},
   "outputs": [],
   "source": [
    "def h(p, q):\n",
    "    return (p, q)"
   ]
  },
  {
   "cell_type": "code",
   "execution_count": 21,
   "metadata": {},
   "outputs": [
    {
     "data": {
      "application/vnd.jupyter.widget-view+json": {
       "model_id": "58db231d67a64fc184dfe195e102a38c",
       "version_major": 2,
       "version_minor": 0
      },
      "text/plain": [
       "interactive(children=(IntSlider(value=5, description='p', max=15, min=-5), Output()), _dom_classes=('widget-in…"
      ]
     },
     "metadata": {},
     "output_type": "display_data"
    }
   ],
   "source": [
    "widgets.interact(h, p=5, q=widgets.fixed(20));"
   ]
  },
  {
   "cell_type": "markdown",
   "metadata": {},
   "source": [
    "#### Widget abbreviations\n",
    "\n",
    "When you pass an integer-valued keyword argument of `10` (`x=10`) to `interact`, it generates an integer-valued slider control with a range of `[-10,+3*10]`. In this case, `10` is an *abbreviation* for an actual slider widget:\n",
    "\n",
    "```python\n",
    "IntSlider(min=-10,max=30,step=1,value=10)\n",
    "```\n",
    "\n",
    "In fact, we can get the same result if we pass this `IntSlider` as the keyword argument for `x`:"
   ]
  },
  {
   "cell_type": "code",
   "execution_count": 22,
   "metadata": {},
   "outputs": [
    {
     "data": {
      "application/vnd.jupyter.widget-view+json": {
       "model_id": "86ac627b7c8047829659c931295b2c8c",
       "version_major": 2,
       "version_minor": 0
      },
      "text/plain": [
       "interactive(children=(IntSlider(value=10, description='x', max=30, min=-10), Output()), _dom_classes=('widget-…"
      ]
     },
     "metadata": {},
     "output_type": "display_data"
    }
   ],
   "source": [
    "widgets.interact(\n",
    "    f, x=widgets.IntSlider(min=-10, max=30, step=1, value=10)\n",
    ");"
   ]
  },
  {
   "cell_type": "markdown",
   "metadata": {},
   "source": [
    "This examples clarifies how `interact` proceses its keyword arguments:\n",
    "\n",
    "1. If the keyword argument is a `Widget` instance with a `value` attribute, that widget is used. Any widget with a `value` attribute can be used, even custom ones.\n",
    "2. Otherwise, the value is treated as a *widget abbreviation* that is converted to a widget before it is used.\n",
    "\n",
    "The following table gives an overview of different widget abbreviations:\n",
    "\n",
    "<table class=\"table table-condensed table-bordered\">\n",
    "  <tr><td><strong>Keyword argument</strong></td><td><strong>Widget</strong></td></tr>  \n",
    "  <tr><td>`True` or `False`</td><td>Checkbox</td></tr>  \n",
    "  <tr><td>`'Hi there'`</td><td>Text</td></tr>\n",
    "  <tr><td>`value` or `(min,max)` or `(min,max,step)` if integers are passed</td><td>IntSlider</td></tr>\n",
    "  <tr><td>`value` or `(min,max)` or `(min,max,step)` if floats are passed</td><td>FloatSlider</td></tr>\n",
    "  <tr><td>`['orange','apple']` or `[('one', 1), ('two', 2)]`</td><td>Dropdown</td></tr>\n",
    "</table>\n",
    "Note that a dropdown is used if a list or a list of tuples is given (signifying discrete choices), and a slider is used if a tuple is given (signifying a range)."
   ]
  },
  {
   "cell_type": "markdown",
   "metadata": {},
   "source": [
    "### 3.2 `interactive`\n",
    "\n",
    "`interactive` is useful when you want to reuse the widgets that are produced or access the data that is bound to the UI controls.\n",
    "\n",
    "Note that unlike `interact`, the return value of the function will not be displayed automatically, but you can display a value inside the function with `IPython.display.display`."
   ]
  },
  {
   "cell_type": "code",
   "execution_count": 23,
   "metadata": {},
   "outputs": [],
   "source": [
    "from IPython.display import display\n",
    "\n",
    "def f(a, b):\n",
    "    display(a + b)\n",
    "    return a+b"
   ]
  },
  {
   "cell_type": "markdown",
   "metadata": {},
   "source": [
    "Unlike `interact`, `interactive` returns a `Widget` instance rather than immediately displaying the widget."
   ]
  },
  {
   "cell_type": "code",
   "execution_count": 24,
   "metadata": {},
   "outputs": [
    {
     "data": {
      "application/vnd.jupyter.widget-view+json": {
       "model_id": "350e5df3cbee4dcfb8bcf931e58718ff",
       "version_major": 2,
       "version_minor": 0
      },
      "text/plain": [
       "interactive(children=(IntSlider(value=10, description='a', max=30, min=-10), IntSlider(value=20, description='…"
      ]
     },
     "metadata": {},
     "output_type": "display_data"
    }
   ],
   "source": [
    "w = widgets.interactive(f, a=10, b=20)\n",
    "w"
   ]
  },
  {
   "cell_type": "markdown",
   "metadata": {},
   "source": [
    "The widget is an `interactive`, a subclass of `VBox`, which is a container for other widgets."
   ]
  },
  {
   "cell_type": "code",
   "execution_count": 25,
   "metadata": {},
   "outputs": [
    {
     "data": {
      "text/plain": [
       "ipywidgets.widgets.interaction.interactive"
      ]
     },
     "execution_count": 25,
     "metadata": {},
     "output_type": "execute_result"
    }
   ],
   "source": [
    "type(w)"
   ]
  },
  {
   "cell_type": "markdown",
   "metadata": {},
   "source": [
    "The children of the `interactive` are two integer-valued sliders and an output widget, produced by the widget abbreviations above."
   ]
  },
  {
   "cell_type": "code",
   "execution_count": 26,
   "metadata": {},
   "outputs": [
    {
     "data": {
      "text/plain": [
       "(IntSlider(value=10, description='a', max=30, min=-10),\n",
       " IntSlider(value=20, description='b', max=60, min=-20),\n",
       " Output())"
      ]
     },
     "execution_count": 26,
     "metadata": {},
     "output_type": "execute_result"
    }
   ],
   "source": [
    "w.children"
   ]
  },
  {
   "cell_type": "markdown",
   "metadata": {},
   "source": [
    "To actually display the widgets, you can use IPython's `display` function."
   ]
  },
  {
   "cell_type": "code",
   "execution_count": 27,
   "metadata": {},
   "outputs": [
    {
     "data": {
      "application/vnd.jupyter.widget-view+json": {
       "model_id": "350e5df3cbee4dcfb8bcf931e58718ff",
       "version_major": 2,
       "version_minor": 0
      },
      "text/plain": [
       "interactive(children=(IntSlider(value=10, description='a', max=30, min=-10), IntSlider(value=20, description='…"
      ]
     },
     "metadata": {},
     "output_type": "display_data"
    }
   ],
   "source": [
    "display(w)"
   ]
  },
  {
   "cell_type": "markdown",
   "metadata": {},
   "source": [
    "At this point, the UI controls work just like they would if `interact` had been used. You can manipulate them interactively and the function will be called. However, the widget instance returned by `interactive` also gives you access to the current keyword arguments and return value of the underlying Python function. \n",
    "\n",
    "Here are the current keyword arguments. If you rerun this cell after manipulating the sliders, the values will have changed."
   ]
  },
  {
   "cell_type": "code",
   "execution_count": 28,
   "metadata": {},
   "outputs": [
    {
     "data": {
      "text/plain": [
       "{'a': 10, 'b': 20}"
      ]
     },
     "execution_count": 28,
     "metadata": {},
     "output_type": "execute_result"
    }
   ],
   "source": [
    "w.kwargs"
   ]
  },
  {
   "cell_type": "markdown",
   "metadata": {},
   "source": [
    "Here is the current return value of the function."
   ]
  },
  {
   "cell_type": "code",
   "execution_count": 29,
   "metadata": {},
   "outputs": [
    {
     "data": {
      "text/plain": [
       "30"
      ]
     },
     "execution_count": 29,
     "metadata": {},
     "output_type": "execute_result"
    }
   ],
   "source": [
    "w.result"
   ]
  },
  {
   "cell_type": "markdown",
   "metadata": {},
   "source": [
    "## 4. Voilà Dashboards\n",
    "\n",
    "> Voilà turns Jupyter notebooks into standalone web applications.\n",
    "> \n",
    "> Unlike the usual HTML-converted notebooks, each user connecting to the Voilà tornado application gets a dedicated Jupyter kernel which can execute the callbacks to changes in Jupyter interactive widgets.\n",
    "\n",
    "- The [intro blog](https://blog.jupyter.org/and-voil%C3%A0-f6a2c08a4a93) provides an overview and resources for getting up and running with Voilà\n",
    "- The [Voilà gallery](https://voila-gallery.org/) has a collection of examples built with Voilà and Jupyter widgets. \n",
    "\n",
    "\n",
    "#### running voila ([docs](https://voila.readthedocs.io/en/stable/using.html#using-voila)):\n",
    "- you can run Voilà as a standalone server \n",
    "  \n",
    "  ```\n",
    "  voila notebook.ipynb\n",
    "  ```\n",
    "  \n",
    "  \n",
    "- or as a server extention by changing the url to `<url-of-my-server>/voila` (e.g. if you launched `jupyter lab` locally, and it was running at `http://localhost:8888/lab`, then then Voilà would be accessed at `http://localhost:8888/voila`.\n",
    "\n",
    "\n",
    "- there is also a JupyterLab extention for previewing your dashboard\n",
    "   \n",
    "   ```\n",
    "   jupyter labextension install @jupyter-voila/jupyterlab-preview\n",
    "   ```\n",
    "\n",
    "- by default, Voilà will strip out the source code from view. It can be displayed if the option `strip_sources` is set to False"
   ]
  },
  {
   "cell_type": "code",
   "execution_count": null,
   "metadata": {},
   "outputs": [],
   "source": []
  }
 ],
 "metadata": {
  "kernelspec": {
   "display_name": "Python 3",
   "language": "python",
   "name": "python3"
  },
  "language_info": {
   "codemirror_mode": {
    "name": "ipython",
    "version": 3
   },
   "file_extension": ".py",
   "mimetype": "text/x-python",
   "name": "python",
   "nbconvert_exporter": "python",
   "pygments_lexer": "ipython3",
   "version": "3.8.5"
  }
 },
 "nbformat": 4,
 "nbformat_minor": 4
}
