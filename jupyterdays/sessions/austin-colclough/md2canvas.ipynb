{
 "cells": [
  {
   "cell_type": "markdown",
   "metadata": {},
   "source": [
    "# Markdown to canvas"
   ]
  },
  {
   "cell_type": "markdown",
   "metadata": {},
   "source": [
    "## Introduction"
   ]
  },
  {
   "cell_type": "markdown",
   "metadata": {},
   "source": [
    "### Shared presentation\n",
    "\n",
    "* Part 1: Phil Austin (Associate professor, EOAS) -- set the scene\n",
    "* Part 2: Mara Colclough (4th year honours computer science -- demo)"
   ]
  },
  {
   "cell_type": "markdown",
   "metadata": {},
   "source": [
    "## The big picture\n",
    "\n",
    "### A brief history of the internet\n",
    "\n",
    "* [Eben Moglen](https://en.wikipedia.org/wiki/Eben_Moglen): coined the term \"low-friction collaboration\"\n",
    "\n",
    "* Jupyter/opensource/github: very low friction\n",
    "\n",
    "* Canvas: Very high friction (by design and necessity)\n",
    "\n",
    "\n",
    "### OCESE and top-down learning for open source computing\n",
    "\n",
    "* [Open-source computing for earth science education](https://eoas-ubc.github.io/)\n",
    "\n",
    "* [EOAS HPC tutorials](https://github.com/eoas-ubc/eoas_hpc_edu/blob/master/Readme.md)\n",
    "\n",
    "## md2canvas\n",
    "\n",
    "### Project goal\n",
    "\n",
    "* collaborate on quizzes using jupyter/[jupytext](https://jupytext.readthedocs.io/en/latest/introduction.html) in a low friction environment\n",
    "\n",
    "* deploy on canvas for testing and grading\n",
    "\n",
    "### A typical quiz\n",
    "\n",
    "* [An EOSC 340 quiz](midterm_sample/quiz2_2019t1.md)\n",
    "\n",
    "* What I want\n",
    "\n",
    "- single source of truth (one document provides questions/answers with explanations)\n",
    "\n",
    "- quizzes stay on github (private repo if needed), canvas is read-only"
   ]
  },
  {
   "cell_type": "code",
   "execution_count": null,
   "metadata": {},
   "outputs": [],
   "source": []
  }
 ],
 "metadata": {
  "jupytext": {
   "cell_metadata_filter": "all",
   "notebook_metadata_filter": "all,-language_info,-toc,-latex_envs"
  },
  "kernelspec": {
   "display_name": "Python 3",
   "language": "python",
   "name": "python3"
  },
  "language_info": {
   "codemirror_mode": {
    "name": "ipython",
    "version": 3
   },
   "file_extension": ".py",
   "mimetype": "text/x-python",
   "name": "python",
   "nbconvert_exporter": "python",
   "pygments_lexer": "ipython3",
   "version": "3.7.8"
  },
  "toc": {
   "base_numbering": 1,
   "nav_menu": {},
   "number_sections": true,
   "sideBar": true,
   "skip_h1_title": true,
   "title_cell": "Table of Contents",
   "title_sidebar": "Contents",
   "toc_cell": false,
   "toc_position": {},
   "toc_section_display": true,
   "toc_window_display": true
  },
  "toc-autonumbering": true,
  "toc-showcode": true,
  "toc-showmarkdowntxt": true
 },
 "nbformat": 4,
 "nbformat_minor": 4
}
