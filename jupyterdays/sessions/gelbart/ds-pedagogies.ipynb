{
 "cells": [
  {
   "cell_type": "markdown",
   "metadata": {},
   "source": [
    "# Effective pedagogies for teaching data science\n",
    "\n",
    "Mike Gelbart \n",
    "\n",
    "UBC Jupyter Days 2020"
   ]
  },
  {
   "cell_type": "code",
   "execution_count": 4,
   "metadata": {
    "jupyter": {
     "source_hidden": true
    }
   },
   "outputs": [],
   "source": [
    "import pandas as pd\n",
    "\n",
    "from sklearn.model_selection import train_test_split\n",
    "from sklearn.impute import SimpleImputer\n",
    "from sklearn.compose import ColumnTransformer\n",
    "from sklearn.pipeline import Pipeline\n",
    "from sklearn.preprocessing import StandardScaler, OneHotEncoder, FunctionTransformer\n",
    "from sklearn.feature_extraction.text import CountVectorizer\n",
    "\n",
    "from sklearn.dummy import DummyRegressor\n",
    "from sklearn.linear_model import Ridge\n",
    "from sklearn.ensemble import RandomForestRegressor\n",
    "from sklearn.model_selection import cross_validate\n",
    "from sklearn.model_selection import GridSearchCV"
   ]
  },
  {
   "cell_type": "markdown",
   "metadata": {},
   "source": [
    "In this session I will discuss a few tips for teaching data science, especially with Jupyter notebooks:\n",
    "\n",
    "- [Problem-based learning](https://www.queensu.ca/ctl/teaching-support/instructional-strategies/problem-based-learning)\n",
    "- [Live coding](https://en.wikipedia.org/wiki/Live_coding)\n",
    "- My implementation of [think-pair-share](https://en.wikipedia.org/wiki/Think-pair-share)\n",
    "- Real-time collaborative documents (perfect for online teaching!)\n",
    "- (Time-permitting) Some thoughts on teaching in general"
   ]
  },
  {
   "cell_type": "markdown",
   "metadata": {},
   "source": [
    "## About me\n",
    "\n",
    "- Assistant Professor of Teaching, UBC Computer Science\n",
    "- Option Co-Director, UBC Master of Data Science program\n",
    "- Background in machine learning"
   ]
  },
  {
   "cell_type": "markdown",
   "metadata": {},
   "source": [
    "## Live coding in Jupyter (5 min)\n",
    "\n",
    "- I'm a big fan of live experiments.\n",
    "- I don't do much \"live coding\" but I do \"live execution\".\n",
    "- You've probably seen a lot of this but here's my version:\n",
    "\n",
    "<div><img src=\"img/regularization_ppt.png\" width=\"500\"/></div>\n",
    "\n",
    "vs.\n",
    "\n",
    "<div><img src=\"img/regularization_ipynb.png\" width=\"750\"/></div>"
   ]
  },
  {
   "cell_type": "markdown",
   "metadata": {},
   "source": [
    "Main ideas:\n",
    "\n",
    "- No \"magic\".\n",
    "- Cultivates an atmosphere of experimentation."
   ]
  },
  {
   "cell_type": "markdown",
   "metadata": {},
   "source": [
    "## Problem-based learning (20 min)\n",
    "\n",
    "- My CPSC 340 syllabus:\n",
    "  - Day 1: Decision Trees\n",
    "  - Day 2: $k$-nearest neighbours\n",
    "  - etc.\n",
    "My CPSC 330 syllabus:\n",
    "  - Week 1: census dataset\n",
    "  - Week 2: houseing dataset\n",
    "  - etc.\n",
    "- Jupyter facilitates this \"problem-based learning\" really well."
   ]
  },
  {
   "cell_type": "markdown",
   "metadata": {},
   "source": [
    "#### Example: Canadian cheese dataset\n",
    "\n",
    "Below I will show a pretend lesson using the [Canadian Cheese Directory dataset](https://open.canada.ca/data/en/dataset/3c16cd48-3ac3-453f-8260-6f745181c83b) from Agriculture and Agri-Food Canada. This data is distributed under the [Canadian Open Government License](https://open.canada.ca/en/open-government-licence-canada) so I have bundled it with this Jupyterbook.\n",
    "\n",
    "We will be predicting `FatContentPercent` based on the other features."
   ]
  },
  {
   "cell_type": "code",
   "execution_count": 5,
   "metadata": {},
   "outputs": [],
   "source": [
    "df = pd.read_csv(\"data/canadianCheeseDirectory.csv\", index_col=0)"
   ]
  },
  {
   "cell_type": "markdown",
   "metadata": {},
   "source": [
    "We will be predicting `FatContentPercent`, which is not available for all the cheeses, so I will first filter out those where this is not available:"
   ]
  },
  {
   "cell_type": "code",
   "execution_count": 6,
   "metadata": {},
   "outputs": [],
   "source": [
    "df = df.dropna(subset=['FatContentPercent'])"
   ]
  },
  {
   "cell_type": "code",
   "execution_count": 7,
   "metadata": {},
   "outputs": [],
   "source": [
    "df_train, df_test = train_test_split(df, random_state=123) "
   ]
  },
  {
   "cell_type": "code",
   "execution_count": 8,
   "metadata": {},
   "outputs": [],
   "source": [
    "y_train = df_train['FatContentPercent']"
   ]
  },
  {
   "cell_type": "code",
   "execution_count": 20,
   "metadata": {
    "raises-exception": true
   },
   "outputs": [],
   "source": [
    "lm = Ridge()\n",
    "# lm.fit(df_train, y_train)"
   ]
  },
  {
   "cell_type": "markdown",
   "metadata": {
    "tags": [
     "raises-exception"
    ]
   },
   "source": [
    "- Now we run into our first error. \n",
    "- I like to leave these in.\n",
    "  - However, they cause problems when running all cells (or building a Jupyter Book?).\n",
    "  - Fixing this issue seems to be [in progress](https://github.com/jupyterlab/jupyterlab/issues/2412).\n",
    "- Not all the \"problems\" we encounter are Python errors. \n",
    "- Problem types:\n",
    "  - Python error\n",
    "  - Poor model accuracy\n",
    "  - Prohibitively slow code\n",
    "  - Problems you didn't know you had (the worst kind!), especially around train/test contamination\n",
    "  - I don't know where to start"
   ]
  },
  {
   "cell_type": "markdown",
   "metadata": {},
   "source": [
    "Problem: non-numeric data."
   ]
  },
  {
   "cell_type": "code",
   "execution_count": null,
   "metadata": {},
   "outputs": [],
   "source": [
    "df_train.head()"
   ]
  },
  {
   "cell_type": "markdown",
   "metadata": {},
   "source": [
    "Now perhaps the lesson goes to encoding categorical variables..."
   ]
  },
  {
   "cell_type": "code",
   "execution_count": 10,
   "metadata": {
    "jupyter": {
     "source_hidden": true
    }
   },
   "outputs": [],
   "source": [
    "df[\"ManufacturerName\"] = df[\"ManufacturerNameEn\"].fillna(df[\"ManufacturerNameFr\"])\n",
    "df = df.drop(columns=[\"ManufacturerNameEn\", \"ManufacturerNameFr\"])\n",
    "df[\"CheeseName\"] = df[\"CheeseNameEn\"].fillna(df[\"CheeseNameFr\"])\n",
    "df = df.drop(columns=[\"CheeseNameEn\", \"CheeseNameFr\"])\n",
    "df = df.drop(columns=[col for col in df.columns if col.endswith(\"Fr\")])\n",
    "df_train, df_test = train_test_split(df, random_state=123)"
   ]
  },
  {
   "cell_type": "code",
   "execution_count": 11,
   "metadata": {
    "jupyter": {
     "source_hidden": true
    }
   },
   "outputs": [],
   "source": [
    "numeric_features = ['MoisturePercent']\n",
    "categorical_features = ['ManufacturerProvCode', 'ManufacturingTypeEn', 'Organic', 'CategoryTypeEn', 'MilkTypeEn', 'MilkTreatmentTypeEn', 'RindTypeEn', 'ManufacturerName']\n",
    "text_features = ['CheeseName', 'FlavourEn', 'CharacteristicsEn']\n",
    "drop_features = ['WebSiteEn', 'ParticularitiesEn', 'RipeningEn', 'LastUpdateDate']\n",
    "target_column = 'FatContentPercent'\n",
    "assert set(numeric_features + categorical_features + text_features + drop_features + [target_column]) == set(df_train.columns)"
   ]
  },
  {
   "cell_type": "code",
   "execution_count": 12,
   "metadata": {
    "jupyter": {
     "source_hidden": true
    }
   },
   "outputs": [],
   "source": [
    "y_train = df_train[target_column]\n",
    "y_test = df_test[target_column]"
   ]
  },
  {
   "cell_type": "markdown",
   "metadata": {},
   "source": [
    "- Note how I've minimized some of the code cells.\n",
    "- In class, I would show more of them.\n",
    "- But not necessarily all, if they are beyond the scope, not relevant, or old news."
   ]
  },
  {
   "cell_type": "markdown",
   "metadata": {},
   "source": [
    "Now to the key code:"
   ]
  },
  {
   "cell_type": "code",
   "execution_count": 13,
   "metadata": {},
   "outputs": [],
   "source": [
    "numeric_transformer = Pipeline([\n",
    "    ('imputer', SimpleImputer(strategy='median')),\n",
    "    ('scaler', StandardScaler())\n",
    "])\n",
    "\n",
    "categorical_transformer = Pipeline([\n",
    "    ('imputer', SimpleImputer(strategy='constant')),\n",
    "    ('onehot', OneHotEncoder(sparse=False))\n",
    "])\n",
    "\n",
    "# Fit a separate CountVectorizer for each of the text columns.\n",
    "# Need to convert the resulting sparse matrices to dense separately.\n",
    "text_transformer = Pipeline([\n",
    "    ('imputer', SimpleImputer(strategy='constant', fill_value='')),\n",
    "    ('tolist', FunctionTransformer(lambda x: x.ravel(), validate=False)),\n",
    "    ('countvec', CountVectorizer(max_features=10, stop_words='english')),\n",
    "    ('todense', FunctionTransformer(lambda x: x.toarray(), validate=False))\n",
    "])\n",
    "\n",
    "preprocessor = ColumnTransformer([\n",
    "    ('numeric', numeric_transformer, numeric_features),\n",
    "    ('categorical', categorical_transformer, categorical_features)\n",
    "] + [(f, text_transformer, [f]) for f in text_features])"
   ]
  },
  {
   "cell_type": "code",
   "execution_count": 14,
   "metadata": {},
   "outputs": [],
   "source": [
    "preprocessor.fit(df_train);"
   ]
  },
  {
   "cell_type": "code",
   "execution_count": 15,
   "metadata": {},
   "outputs": [],
   "source": [
    "def get_column_names(preprocessor):\n",
    "    \"\"\"\n",
    "    Gets the feature names from a preprocessor.\n",
    "    This entails looking at the OHE feature names and also\n",
    "    the words used by the CountVectorizers.\n",
    "    \n",
    "    Arguments\n",
    "    ---------\n",
    "    preprocessor: ColumnTransformer\n",
    "        A fit preprocessor following the specific format above.\n",
    "    \n",
    "    Returns\n",
    "    -------\n",
    "    list\n",
    "        A list of column names.\n",
    "    \"\"\"\n",
    "    ohe_feature_names = list(preprocessor.named_transformers_['categorical'].named_steps['onehot'].get_feature_names(categorical_features))\n",
    "    text_feature_names = [f + \"_\" + word for f in text_features for word in preprocessor.named_transformers_[f].named_steps['countvec'].get_feature_names()]\n",
    "    return numeric_features + ohe_feature_names + text_feature_names"
   ]
  },
  {
   "cell_type": "code",
   "execution_count": 16,
   "metadata": {},
   "outputs": [
    {
     "data": {
      "text/html": [
       "<div>\n",
       "<style scoped>\n",
       "    .dataframe tbody tr th:only-of-type {\n",
       "        vertical-align: middle;\n",
       "    }\n",
       "\n",
       "    .dataframe tbody tr th {\n",
       "        vertical-align: top;\n",
       "    }\n",
       "\n",
       "    .dataframe thead th {\n",
       "        text-align: right;\n",
       "    }\n",
       "</style>\n",
       "<table border=\"1\" class=\"dataframe\">\n",
       "  <thead>\n",
       "    <tr style=\"text-align: right;\">\n",
       "      <th></th>\n",
       "      <th>MoisturePercent</th>\n",
       "      <th>ManufacturerProvCode_AB</th>\n",
       "      <th>ManufacturerProvCode_BC</th>\n",
       "      <th>ManufacturerProvCode_MB</th>\n",
       "      <th>ManufacturerProvCode_NB</th>\n",
       "      <th>ManufacturerProvCode_NL</th>\n",
       "      <th>ManufacturerProvCode_NS</th>\n",
       "      <th>ManufacturerProvCode_ON</th>\n",
       "      <th>ManufacturerProvCode_PE</th>\n",
       "      <th>ManufacturerProvCode_QC</th>\n",
       "      <th>...</th>\n",
       "      <th>CharacteristicsEn_cheese</th>\n",
       "      <th>CharacteristicsEn_colored</th>\n",
       "      <th>CharacteristicsEn_creamy</th>\n",
       "      <th>CharacteristicsEn_interior</th>\n",
       "      <th>CharacteristicsEn_pressed</th>\n",
       "      <th>CharacteristicsEn_rind</th>\n",
       "      <th>CharacteristicsEn_ripened</th>\n",
       "      <th>CharacteristicsEn_smooth</th>\n",
       "      <th>CharacteristicsEn_texture</th>\n",
       "      <th>CharacteristicsEn_white</th>\n",
       "    </tr>\n",
       "    <tr>\n",
       "      <th>CheeseId</th>\n",
       "      <th></th>\n",
       "      <th></th>\n",
       "      <th></th>\n",
       "      <th></th>\n",
       "      <th></th>\n",
       "      <th></th>\n",
       "      <th></th>\n",
       "      <th></th>\n",
       "      <th></th>\n",
       "      <th></th>\n",
       "      <th></th>\n",
       "      <th></th>\n",
       "      <th></th>\n",
       "      <th></th>\n",
       "      <th></th>\n",
       "      <th></th>\n",
       "      <th></th>\n",
       "      <th></th>\n",
       "      <th></th>\n",
       "      <th></th>\n",
       "      <th></th>\n",
       "    </tr>\n",
       "  </thead>\n",
       "  <tbody>\n",
       "    <tr>\n",
       "      <th>1432</th>\n",
       "      <td>1.127656</td>\n",
       "      <td>0.0</td>\n",
       "      <td>0.0</td>\n",
       "      <td>0.0</td>\n",
       "      <td>0.0</td>\n",
       "      <td>0.0</td>\n",
       "      <td>0.0</td>\n",
       "      <td>0.0</td>\n",
       "      <td>0.0</td>\n",
       "      <td>1.0</td>\n",
       "      <td>...</td>\n",
       "      <td>1.0</td>\n",
       "      <td>0.0</td>\n",
       "      <td>1.0</td>\n",
       "      <td>0.0</td>\n",
       "      <td>0.0</td>\n",
       "      <td>0.0</td>\n",
       "      <td>0.0</td>\n",
       "      <td>0.0</td>\n",
       "      <td>0.0</td>\n",
       "      <td>0.0</td>\n",
       "    </tr>\n",
       "    <tr>\n",
       "      <th>2281</th>\n",
       "      <td>-1.459684</td>\n",
       "      <td>0.0</td>\n",
       "      <td>0.0</td>\n",
       "      <td>0.0</td>\n",
       "      <td>0.0</td>\n",
       "      <td>0.0</td>\n",
       "      <td>0.0</td>\n",
       "      <td>0.0</td>\n",
       "      <td>0.0</td>\n",
       "      <td>1.0</td>\n",
       "      <td>...</td>\n",
       "      <td>0.0</td>\n",
       "      <td>0.0</td>\n",
       "      <td>0.0</td>\n",
       "      <td>0.0</td>\n",
       "      <td>0.0</td>\n",
       "      <td>0.0</td>\n",
       "      <td>0.0</td>\n",
       "      <td>0.0</td>\n",
       "      <td>0.0</td>\n",
       "      <td>0.0</td>\n",
       "    </tr>\n",
       "    <tr>\n",
       "      <th>1908</th>\n",
       "      <td>2.266086</td>\n",
       "      <td>0.0</td>\n",
       "      <td>0.0</td>\n",
       "      <td>0.0</td>\n",
       "      <td>0.0</td>\n",
       "      <td>0.0</td>\n",
       "      <td>0.0</td>\n",
       "      <td>0.0</td>\n",
       "      <td>0.0</td>\n",
       "      <td>1.0</td>\n",
       "      <td>...</td>\n",
       "      <td>0.0</td>\n",
       "      <td>0.0</td>\n",
       "      <td>0.0</td>\n",
       "      <td>0.0</td>\n",
       "      <td>0.0</td>\n",
       "      <td>0.0</td>\n",
       "      <td>0.0</td>\n",
       "      <td>0.0</td>\n",
       "      <td>0.0</td>\n",
       "      <td>0.0</td>\n",
       "    </tr>\n",
       "    <tr>\n",
       "      <th>2224</th>\n",
       "      <td>-1.459684</td>\n",
       "      <td>0.0</td>\n",
       "      <td>0.0</td>\n",
       "      <td>0.0</td>\n",
       "      <td>0.0</td>\n",
       "      <td>0.0</td>\n",
       "      <td>0.0</td>\n",
       "      <td>0.0</td>\n",
       "      <td>0.0</td>\n",
       "      <td>1.0</td>\n",
       "      <td>...</td>\n",
       "      <td>0.0</td>\n",
       "      <td>0.0</td>\n",
       "      <td>0.0</td>\n",
       "      <td>0.0</td>\n",
       "      <td>0.0</td>\n",
       "      <td>0.0</td>\n",
       "      <td>0.0</td>\n",
       "      <td>0.0</td>\n",
       "      <td>0.0</td>\n",
       "      <td>0.0</td>\n",
       "    </tr>\n",
       "    <tr>\n",
       "      <th>2007</th>\n",
       "      <td>-0.528242</td>\n",
       "      <td>0.0</td>\n",
       "      <td>0.0</td>\n",
       "      <td>0.0</td>\n",
       "      <td>0.0</td>\n",
       "      <td>0.0</td>\n",
       "      <td>0.0</td>\n",
       "      <td>0.0</td>\n",
       "      <td>0.0</td>\n",
       "      <td>1.0</td>\n",
       "      <td>...</td>\n",
       "      <td>0.0</td>\n",
       "      <td>0.0</td>\n",
       "      <td>0.0</td>\n",
       "      <td>0.0</td>\n",
       "      <td>0.0</td>\n",
       "      <td>0.0</td>\n",
       "      <td>0.0</td>\n",
       "      <td>0.0</td>\n",
       "      <td>0.0</td>\n",
       "      <td>0.0</td>\n",
       "    </tr>\n",
       "  </tbody>\n",
       "</table>\n",
       "<p>5 rows × 224 columns</p>\n",
       "</div>"
      ],
      "text/plain": [
       "          MoisturePercent  ManufacturerProvCode_AB  ManufacturerProvCode_BC  \\\n",
       "CheeseId                                                                      \n",
       "1432             1.127656                      0.0                      0.0   \n",
       "2281            -1.459684                      0.0                      0.0   \n",
       "1908             2.266086                      0.0                      0.0   \n",
       "2224            -1.459684                      0.0                      0.0   \n",
       "2007            -0.528242                      0.0                      0.0   \n",
       "\n",
       "          ManufacturerProvCode_MB  ManufacturerProvCode_NB  \\\n",
       "CheeseId                                                     \n",
       "1432                          0.0                      0.0   \n",
       "2281                          0.0                      0.0   \n",
       "1908                          0.0                      0.0   \n",
       "2224                          0.0                      0.0   \n",
       "2007                          0.0                      0.0   \n",
       "\n",
       "          ManufacturerProvCode_NL  ManufacturerProvCode_NS  \\\n",
       "CheeseId                                                     \n",
       "1432                          0.0                      0.0   \n",
       "2281                          0.0                      0.0   \n",
       "1908                          0.0                      0.0   \n",
       "2224                          0.0                      0.0   \n",
       "2007                          0.0                      0.0   \n",
       "\n",
       "          ManufacturerProvCode_ON  ManufacturerProvCode_PE  \\\n",
       "CheeseId                                                     \n",
       "1432                          0.0                      0.0   \n",
       "2281                          0.0                      0.0   \n",
       "1908                          0.0                      0.0   \n",
       "2224                          0.0                      0.0   \n",
       "2007                          0.0                      0.0   \n",
       "\n",
       "          ManufacturerProvCode_QC  ...  CharacteristicsEn_cheese  \\\n",
       "CheeseId                           ...                             \n",
       "1432                          1.0  ...                       1.0   \n",
       "2281                          1.0  ...                       0.0   \n",
       "1908                          1.0  ...                       0.0   \n",
       "2224                          1.0  ...                       0.0   \n",
       "2007                          1.0  ...                       0.0   \n",
       "\n",
       "          CharacteristicsEn_colored  CharacteristicsEn_creamy  \\\n",
       "CheeseId                                                        \n",
       "1432                            0.0                       1.0   \n",
       "2281                            0.0                       0.0   \n",
       "1908                            0.0                       0.0   \n",
       "2224                            0.0                       0.0   \n",
       "2007                            0.0                       0.0   \n",
       "\n",
       "          CharacteristicsEn_interior  CharacteristicsEn_pressed  \\\n",
       "CheeseId                                                          \n",
       "1432                             0.0                        0.0   \n",
       "2281                             0.0                        0.0   \n",
       "1908                             0.0                        0.0   \n",
       "2224                             0.0                        0.0   \n",
       "2007                             0.0                        0.0   \n",
       "\n",
       "          CharacteristicsEn_rind  CharacteristicsEn_ripened  \\\n",
       "CheeseId                                                      \n",
       "1432                         0.0                        0.0   \n",
       "2281                         0.0                        0.0   \n",
       "1908                         0.0                        0.0   \n",
       "2224                         0.0                        0.0   \n",
       "2007                         0.0                        0.0   \n",
       "\n",
       "          CharacteristicsEn_smooth  CharacteristicsEn_texture  \\\n",
       "CheeseId                                                        \n",
       "1432                           0.0                        0.0   \n",
       "2281                           0.0                        0.0   \n",
       "1908                           0.0                        0.0   \n",
       "2224                           0.0                        0.0   \n",
       "2007                           0.0                        0.0   \n",
       "\n",
       "          CharacteristicsEn_white  \n",
       "CheeseId                           \n",
       "1432                          0.0  \n",
       "2281                          0.0  \n",
       "1908                          0.0  \n",
       "2224                          0.0  \n",
       "2007                          0.0  \n",
       "\n",
       "[5 rows x 224 columns]"
      ]
     },
     "execution_count": 16,
     "metadata": {},
     "output_type": "execute_result"
    }
   ],
   "source": [
    "new_columns = get_column_names(preprocessor)\n",
    "    \n",
    "df_train_enc = pd.DataFrame(preprocessor.transform(df_train), index=df_train.index, columns=new_columns)\n",
    "df_train_enc.head()"
   ]
  },
  {
   "cell_type": "markdown",
   "metadata": {},
   "source": [
    "- Awesome, we've got everything into numeric data!\n",
    "- Now let's train a model:"
   ]
  },
  {
   "cell_type": "code",
   "execution_count": 19,
   "metadata": {},
   "outputs": [],
   "source": [
    "pipeline_dummy = Pipeline([\n",
    "    ('preprocessor', preprocessor),\n",
    "    ('model', DummyRegressor())])\n",
    "\n",
    "# scores_dummy = cross_validate(pipeline_dummy, df_train, y_train, cv=5, return_train_score=True)\n",
    "#pd.DataFrame(scores_dummy)[[\"train_score\", \"test_score\"]].mean()"
   ]
  },
  {
   "cell_type": "markdown",
   "metadata": {},
   "source": [
    "Oh no, another error - what is going on this time? Etc."
   ]
  },
  {
   "cell_type": "markdown",
   "metadata": {},
   "source": [
    "Going back to the problem types:\n",
    "    \n",
    "- Python error\n",
    "- Poor model accuracy\n",
    "- Prohibitively slow code\n",
    "- Problems you didn't know you had (the worst kind!), especially around train/test contamination"
   ]
  },
  {
   "cell_type": "markdown",
   "metadata": {},
   "source": [
    "Most of the topics / learning outcomes in the course fit into one of these categories. \n",
    "\n",
    "| Topic  | Problem  |\n",
    "|--------|----------|\n",
    "| One-hot encoding | Python error |\n",
    "| Overfitting | Poor model accuracy\n",
    "| Fancy models, e.g. CatBoost | Poor model accuracy |\n",
    "| Feature importances, e.g. SHAP | Lack of interpretability | \n",
    "| Pipelines | Problems you didn't know you had, hard-to-maintain code |\n",
    "| Cross-validation | Poor model accuracy, problems you didn't know you had |\n",
    "| Survival analysis | Problems you didn't know you had |\n",
    "| Pre-trained deep networks | Don't know where to start |\n",
    "\n",
    "etc."
   ]
  },
  {
   "cell_type": "markdown",
   "metadata": {},
   "source": [
    "## Break (5 min)"
   ]
  },
  {
   "cell_type": "markdown",
   "metadata": {},
   "source": [
    "## Think-pair-share (15 min)"
   ]
  },
  {
   "cell_type": "markdown",
   "metadata": {},
   "source": [
    "- Think-pair-share is an evidence-based teaching approach.\n",
    "- The idea is for students to learn from each other.\n",
    "- I find it works great in DS teaching.\n",
    "- Example:"
   ]
  },
  {
   "cell_type": "markdown",
   "metadata": {},
   "source": [
    "#### Cross-validation true/false questions\n",
    "\n",
    "1. $k$-fold cross validation calls `fit` $k$ times and `predict` $k$ times.\n",
    "2. The goal of cross-validation is to obtain a better estimate of test error than just using a single validation set.\n",
    "3. The main disadvantage of using a large $k$ in cross-validation is running time.\n",
    "4. $2$-fold cross validation is the same thing as using a validation set that's 50% the size of your training set."
   ]
  },
  {
   "cell_type": "markdown",
   "metadata": {},
   "source": [
    "I would usually allocate 10-15 min for the above."
   ]
  },
  {
   "cell_type": "markdown",
   "metadata": {},
   "source": [
    "Details on my approach:\n",
    "\n",
    "- Easier to come up with answers because not limited to 1 True, 3-4 False\n",
    "- Can use hand-raising\n",
    "- Gives more flexibility to have ambiguous questions without messing up the rest\n",
    "- Try to make one of the earlier ones true (1 or 2), in general slightly more true, since this encourages participation.\n",
    "- \"My answer\" instead of \"the answer\"\n",
    "- Often, when the majority disagreed with me, we discovered an ambiguity or catch\n",
    "- I don't write down answers\n"
   ]
  },
  {
   "cell_type": "markdown",
   "metadata": {},
   "source": [
    "## Real-time documents (5 min)"
   ]
  },
  {
   "cell_type": "markdown",
   "metadata": {},
   "source": [
    "## Q&A (15 min)"
   ]
  },
  {
   "cell_type": "markdown",
   "metadata": {},
   "source": [
    "## Some thoughts on teaching in general (time-permitting)"
   ]
  },
  {
   "cell_type": "code",
   "execution_count": null,
   "metadata": {
    "tags": [
     "raises-exception"
    ]
   },
   "outputs": [],
   "source": []
  }
 ],
 "metadata": {
  "kernelspec": {
   "display_name": "Python 3",
   "language": "python",
   "name": "python3"
  },
  "language_info": {
   "codemirror_mode": {
    "name": "ipython",
    "version": 3
   },
   "file_extension": ".py",
   "mimetype": "text/x-python",
   "name": "python",
   "nbconvert_exporter": "python",
   "pygments_lexer": "ipython3",
   "version": "3.7.6"
  }
 },
 "nbformat": 4,
 "nbformat_minor": 4
}
