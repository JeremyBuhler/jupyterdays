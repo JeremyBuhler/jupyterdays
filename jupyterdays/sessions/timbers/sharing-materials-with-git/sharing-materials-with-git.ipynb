{
 "cells": [
  {
   "cell_type": "markdown",
   "metadata": {},
   "source": [
    "# Sharing your teaching materials using Git & GitHub\n",
    "\n",
    "Now that you have learned how to access & use UBC's JupyterHub (https://ubc.syzygy.ca/), this session will demonstrate how to share your teaching materials using Git & GitHub."
   ]
  },
  {
   "cell_type": "markdown",
   "metadata": {},
   "source": [
    "## Introduction to me:\n",
    "\n",
    "Hi! I am [Tiffany Timbers](https://www.tiffanytimbers.com/), an Assistant Professor of Teaching in the [Department of Statistics](https://www.stat.ubc.ca/) at UBC. I am also a Co-Director for the [Master of Data Science Program (Vancouver Option)](https://ubc-mds.github.io/).\n",
    "\n",
    "<img src=\"img/ttimbers.png\" width=200 align=\"left\">"
   ]
  },
  {
   "cell_type": "markdown",
   "metadata": {},
   "source": [
    "## Learning outcomes:\n",
    "\n",
    "By the end of this session, participants will be able to:\n",
    "\n",
    "1. Use [GitHub.com](https://github.com/) to create a repository to host course materials, and use the web interface to edit and upload files.\n",
    "\n",
    "2. Use UBC's JupyterHub (https://ubc.syzygy.ca/) to create & edit content, as well as send updates to [GitHub.com](https://github.com/).\n",
    "\n",
    "3. Use [`nbgitpuller`](https://jupyterhub.github.io/nbgitpuller/index.html) to create a link to distribute and share course materials (e.g., data sets and Jupyter notebooks) with students on UBC's JupyterHub (https://ubc.syzygy.ca/)."
   ]
  },
  {
   "cell_type": "markdown",
   "metadata": {},
   "source": [
    "## Walkthrough of a demo course on Canvas\n",
    "\n",
    "Canvas is current course management system used by UBC. We can keep the student experience with other courses at UBC consistent by using Canvas as the pointer to our course materials that we host on [GitHub.com](https://github.com/) (a remote version control web archive). From the students perspective, nothing appears much different from their other courses and so there is no unnecessary cognitive load added for them to learn a new system.\n",
    "\n",
    "Why use [GitHub.com](https://github.com/) for hosting materials? Well [GitHub.com](https://github.com/) is a remote version control web archive that allows you to view the history of your files, track who made changes to which files, use issue tracking to log and assign course/assignment bugs for fixing, or new features to add. Additionally, it is an authentic data science tool used in industry and academia.\n",
    "\n",
    "Let's explore a demo Canvas course:\n",
    "- [https://canvas.ubc.ca/courses/66517](https://canvas.ubc.ca/courses/66517)\n",
    "\n",
    "Course source hosted on [GitHub.com](https://github.com/):\n",
    "- [`jupyterdays`](https://github.com/UBC-DSCI/jupyterdays)\n",
    "\n",
    "Some specific source files that might be of interest:\n",
    "- [Syllabus](https://github.com/UBC-DSCI/jupyterdays/blob/master/jupyterdays/index.md)\n",
    "- [these notes](https://github.com/UBC-DSCI/jupyterdays/tree/master/jupyterdays/sessions/ttimbers/sharing-materials-with-git/ttimbers/sharing-materials-with-git.ipynb)\n",
    "- [Demo Jupyter (Python) Assignment](https://github.com/UBC-DSCI/jupyterdays/blob/master/homework/worksheet_01_python/worksheet_01_python.ipynb)"
   ]
  },
  {
   "cell_type": "markdown",
   "metadata": {},
   "source": [
    "## Creating a course repository to host materials on [GitHub.com](https://github.com/)\n",
    "\n",
    "A repository on [GitHub.com](https://github.com/) can used to host and share your course materials with your students (and fellow Instructors). \n",
    "\n",
    "### Sign up for a free account \n",
    "\n",
    "Before you can create repositories, you will need a [GitHub.com](https://github.com/) account. You can sign up for a free account here: [https://github.com/](https://github.com/)\n",
    "\n",
    "### Create new repository to host your course materials\n",
    "\n",
    "Login to [GitHub.com](https://github.com/) and click on the \"+\" icon in the upper right hand corner, and then click on \"New Repository\" as shown below:\n",
    "\n",
    "<img src=\"img/new_repository_01.png\" width=600>\n",
    "\n",
    "On the next page, do the following: \n",
    "- [ ] enter the name for the repository (here we put `dsci-101`) \n",
    "- [ ] Select \"Public\"\n",
    "- [ ] Select \"Initialize this repository with a README\"\n",
    "- [ ] click on the green \"Create Repository\" button\n",
    "\n",
    "<img src=\"img/new_repository_02.png\" width=600>\n",
    "\n",
    "Now you should have a repository that looks something like this:\n",
    "\n",
    "<img src=\"img/new_repository_03.png\" width=600>"
   ]
  },
  {
   "cell_type": "markdown",
   "metadata": {},
   "source": [
    "## Edit and add materials in your course repository on"
   ]
  },
  {
   "cell_type": "markdown",
   "metadata": {},
   "source": [
    "## Using JupyterHub to create & edit content, as well as send updates to GitHub.com"
   ]
  },
  {
   "cell_type": "markdown",
   "metadata": {},
   "source": [
    "## Using [`nbgitpuller`](https://jupyterhub.github.io/nbgitpuller/index.html) to share course materials with students on JupyterHub"
   ]
  }
 ],
 "metadata": {
  "kernelspec": {
   "display_name": "Python 3",
   "language": "python",
   "name": "python3"
  },
  "language_info": {
   "codemirror_mode": {
    "name": "ipython",
    "version": 3
   },
   "file_extension": ".py",
   "mimetype": "text/x-python",
   "name": "python",
   "nbconvert_exporter": "python",
   "pygments_lexer": "ipython3",
   "version": "3.7.6"
  }
 },
 "nbformat": 4,
 "nbformat_minor": 4
}
