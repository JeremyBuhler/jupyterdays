{
 "cells": [
  {
   "cell_type": "markdown",
   "metadata": {},
   "source": [
    "# How to Build an Interactive Course\n",
    "Using an open source framework created by SpaCy developer [Ines Montani](https://github.com/ines) \n"
   ]
  },
  {
   "cell_type": "markdown",
   "metadata": {
    "toc": true
   },
   "source": [
    "<h1>Table of Contents<span class=\"tocSkip\"></span></h1>\n",
    "<div class=\"toc\"><ul class=\"toc-item\"><li><span><a href=\"#Introduction\" data-toc-modified-id=\"Introduction-1\"><span class=\"toc-item-num\">1&nbsp;&nbsp;</span>Introduction</a></span></li><li><span><a href=\"#Learning-Outcomes\" data-toc-modified-id=\"Learning-Outcomes-2\"><span class=\"toc-item-num\">2&nbsp;&nbsp;</span>Learning Outcomes</a></span></li><li><span><a href=\"#Course-Examples\" data-toc-modified-id=\"Course-Examples-3\"><span class=\"toc-item-num\">3&nbsp;&nbsp;</span>Course Examples</a></span></li><li><span><a href=\"#Course-Options\" data-toc-modified-id=\"Course-Options-4\"><span class=\"toc-item-num\">4&nbsp;&nbsp;</span>Course Options</a></span></li><li><span><a href=\"#Setup\" data-toc-modified-id=\"Setup-5\"><span class=\"toc-item-num\">5&nbsp;&nbsp;</span>Setup</a></span></li><li><span><a href=\"#Repository-Structure\" data-toc-modified-id=\"Repository-Structure-6\"><span class=\"toc-item-num\">6&nbsp;&nbsp;</span>Repository Structure</a></span></li><li><span><a href=\"#Demo---How-to-make-it-work\" data-toc-modified-id=\"Demo---How-to-make-it-work-7\"><span class=\"toc-item-num\">7&nbsp;&nbsp;</span>Demo - How to make it work</a></span></li><li><span><a href=\"#Sneak-Peak:-A-brief--look-at-what-I've-been-working-on:\" data-toc-modified-id=\"Sneak-Peak:-A-brief--look-at-what-I've-been-working-on:-8\"><span class=\"toc-item-num\">8&nbsp;&nbsp;</span>Sneak Peak: A brief  look at what I've been working on:</a></span></li><li><span><a href=\"#Resources\" data-toc-modified-id=\"Resources-9\"><span class=\"toc-item-num\">9&nbsp;&nbsp;</span>Resources</a></span></li><li><span><a href=\"#Thank-you!\" data-toc-modified-id=\"Thank-you!-10\"><span class=\"toc-item-num\">10&nbsp;&nbsp;</span>Thank you!</a></span></li></ul></div>"
   ]
  },
  {
   "cell_type": "markdown",
   "metadata": {},
   "source": [
    "## Introduction\n",
    "\n",
    "![](img/wave.png)\n",
    "\n",
    "Hello! My name is Hayley Boyce. I work for the University of British Columbia's Master of Data Science program as an Educational Specialist. I did my undergraduate degree in Applied mathematics and I am an alumna of the Master of Data Science program. "
   ]
  },
  {
   "cell_type": "markdown",
   "metadata": {},
   "source": [
    "For the last 8 months I have been working with an open source platform where you can built your own online interactive course. This course was developed by SpaCy developer [Ines Montani](https://github.com/ines). \n"
   ]
  },
  {
   "cell_type": "markdown",
   "metadata": {},
   "source": [
    "## Learning Outcomes \n",
    "\n",
    "At the end of this seminar, you should be able to: \n",
    "\n",
    "1. Recognize courses that use this framework.\n",
    "1. Use resources to begin to install and create your own course. \n",
    "1. Identify the different question style you can use to test students knowledge.\n",
    "1. Recall key criteria needed to create lectures slides. \n",
    "1. Explain the structure needed for your course repository. \n",
    "5. See how it can be scaled to larger courses. "
   ]
  },
  {
   "cell_type": "markdown",
   "metadata": {},
   "source": [
    "## Course Examples \n",
    "\n",
    "- [Advanced NLP with SpaCy](https://course.spacy.io/en)\n",
    "- [R Bootcamp](https://r-bootcamp.netlify.app/) - by Ted Laderas\n",
    "- [Generalized Additive Models in R](https://noamross.github.io/gams-in-r-course/) - by Noam Ross\n",
    "- [Supervised Machine Learning: Case Studies in R!](https://supervised-ml-course.netlify.app/) - by Julia Silge\n",
    "- [Allen NLP Guide](https://guide.allennlp.org/your-first-model#7) (inspired by this framework) \n",
    "- And coming September 22, 2020 [Programing in Python for Data Science](https://mcl-dsci-011-programming-in-python.netlify.app/) by Tiffany Timbers, Mike Gelbart and Hayley Boyce"
   ]
  },
  {
   "cell_type": "markdown",
   "metadata": {},
   "source": [
    "##  Course Options \n",
    "\n",
    "Currently this course is available in 2 programming languages: \n",
    "\n",
    "- [Python](https://github.com/ines/course-starter-python)\n",
    "- [R](https://github.com/ines/course-starter-r)\n",
    "\n",
    "Of course this course can be used for other non programming subjects but the interactivity is limited to multiple choice questions only. \n"
   ]
  },
  {
   "cell_type": "markdown",
   "metadata": {},
   "source": [
    "## Setup\n",
    "\n",
    "- Docker compose for Python \n",
    "- Python Course [Documentation](https://ines.github.io/course-starter-python/) \n",
    "- Installation of Node and Gatsby \n",
    "\n"
   ]
  },
  {
   "cell_type": "markdown",
   "metadata": {},
   "source": [
    "## Repository Structure \n",
    "\n",
    "- `chapters/`\n",
    "- `slides/`\n",
    "- `exercises/` \n",
    "- `binder/`\n",
    "- `static/`\n",
    "\n",
    "- Important things I don't have time to talk about but that are explained in the documentation: \n",
    "    - `Meta.json`\n",
    "    - `theme.sass`\n",
    "    - `src/`"
   ]
  },
  {
   "cell_type": "markdown",
   "metadata": {},
   "source": [
    "## Demo - How to make it work\n",
    "\n",
    "- Making a chapter \n",
    "- Making slides \n",
    "- Making a multiple choice exercise question \n",
    "- Making a coding question (exc, solution, test) \n"
   ]
  },
  {
   "cell_type": "markdown",
   "metadata": {},
   "source": [
    "##  Sneak Peak: A brief  look at what I've been working on:\n",
    "\n",
    "- Small customizations \n",
    "- A bit of a different repo structure\n",
    "- Use `rmd` and a script for slides -> Much easier!"
   ]
  },
  {
   "cell_type": "markdown",
   "metadata": {},
   "source": [
    "## Resources\n",
    "\n",
    "- [Course Starter Python](https://github.com/ines/course-starter-python)\n",
    "- [Course Starter R](https://github.com/ines/course-starter-r)\n",
    "- Python Course [Documentation](https://ines.github.io/course-starter-python/) \n",
    "- Course coming soon - [Programing in Python for Data Science](https://mcl-dsci-011-programming-in-python.netlify.app/)\n",
    "- Programing in Python for Data Science [GitHub repo](https://github.com/UBC-MDS/MCL-DSCI-011-programming-in-python)\n",
    "- Me and my contact! \n",
    "    - [Website](www.hayleyfboyce.com)\n",
    "    - [GitHub: hfboyce](https://github.com/hfboyce)\n",
    "    - [Twitter: @hfboyce](https://twitter.com/hayleyfboyce)\n",
    "    - [Email: hfboyce@cs.ubc.ca](mailto:hfboyce@cs.ubc.ca?subject=JupyterDays) "
   ]
  },
  {
   "cell_type": "markdown",
   "metadata": {},
   "source": [
    "## Thank you! \n",
    "\n",
    "![](img/thanks.png)"
   ]
  }
 ],
 "metadata": {
  "kernelspec": {
   "display_name": "Python 3",
   "language": "python",
   "name": "python3"
  },
  "language_info": {
   "codemirror_mode": {
    "name": "ipython",
    "version": 3
   },
   "file_extension": ".py",
   "mimetype": "text/x-python",
   "name": "python",
   "nbconvert_exporter": "python",
   "pygments_lexer": "ipython3",
   "version": "3.7.7"
  },
  "toc": {
   "base_numbering": 1,
   "nav_menu": {},
   "number_sections": true,
   "sideBar": true,
   "skip_h1_title": true,
   "title_cell": "Table of Contents",
   "title_sidebar": "Contents",
   "toc_cell": true,
   "toc_position": {},
   "toc_section_display": true,
   "toc_window_display": false
  }
 },
 "nbformat": 4,
 "nbformat_minor": 4
}
